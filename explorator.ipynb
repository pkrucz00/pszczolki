{
 "cells": [
  {
   "cell_type": "code",
   "execution_count": 1,
   "outputs": [],
   "source": [
    "import bees_algorithm as bee"
   ],
   "metadata": {
    "collapsed": false,
    "pycharm": {
     "name": "#%%\n"
    }
   }
  },
  {
   "cell_type": "code",
   "execution_count": 9,
   "outputs": [],
   "source": [
    "bee_config = bee.BeesConfig(\n",
    "    max_iter=10000,\n",
    "    max_stagnation=50\n",
    ")"
   ],
   "metadata": {
    "collapsed": false,
    "pycharm": {
     "name": "#%%\n"
    }
   }
  },
  {
   "cell_type": "code",
   "execution_count": 4,
   "outputs": [],
   "source": [
    "first_model = bee.BeesConfig(\n",
    "    n=100,\n",
    "    m=30,\n",
    "    e=10,\n",
    "    nsp=50,\n",
    "    nep=100,\n",
    "    max_iter=10000,\n",
    "    max_stagnation=300,\n",
    "    include_original=True,\n",
    "    use_best_of_all=True)"
   ],
   "metadata": {
    "collapsed": false,
    "pycharm": {
     "name": "#%%\n"
    }
   }
  },
  {
   "cell_type": "code",
   "execution_count": 3,
   "outputs": [],
   "source": [
    "second_model = bee.BeesConfig(\n",
    "    n=30,\n",
    "    m=20,\n",
    "    e=10,\n",
    "    nsp=30,\n",
    "    nep=100,\n",
    "    max_iter=10000,\n",
    "    max_stagnation=300,\n",
    "    include_original=True,\n",
    "    use_best_of_all=True)"
   ],
   "metadata": {
    "collapsed": false,
    "pycharm": {
     "name": "#%%\n"
    }
   }
  },
  {
   "cell_type": "code",
   "execution_count": 5,
   "outputs": [],
   "source": [
    "third_model = bee.BeesConfig(\n",
    "    n=100,\n",
    "    m=20,\n",
    "    e=10,\n",
    "    nsp=30,\n",
    "    nep=100,\n",
    "    max_iter=10000,\n",
    "    max_stagnation=300,\n",
    "    include_original=True,\n",
    "    use_best_of_all=True)"
   ],
   "metadata": {
    "collapsed": false,
    "pycharm": {
     "name": "#%%\n"
    }
   }
  },
  {
   "cell_type": "code",
   "execution_count": 6,
   "outputs": [],
   "source": [
    "gen_config = bee.GenConf()"
   ],
   "metadata": {
    "collapsed": false,
    "pycharm": {
     "name": "#%%\n"
    }
   }
  },
  {
   "cell_type": "code",
   "execution_count": 7,
   "outputs": [],
   "source": [
    "demand = [2456, 70, 327, 150]"
   ],
   "metadata": {
    "collapsed": false,
    "pycharm": {
     "name": "#%%\n"
    }
   }
  },
  {
   "cell_type": "code",
   "execution_count": 10,
   "outputs": [],
   "source": [
    "solver = bee.Solver(gen_config, bee_config)"
   ],
   "metadata": {
    "collapsed": false,
    "pycharm": {
     "name": "#%%\n"
    }
   }
  },
  {
   "cell_type": "code",
   "execution_count": 11,
   "outputs": [],
   "source": [
    "models = [\n",
    "    first_model,\n",
    "    second_model,\n",
    "    third_model\n",
    "]"
   ],
   "metadata": {
    "collapsed": false,
    "pycharm": {
     "name": "#%%\n"
    }
   }
  },
  {
   "cell_type": "code",
   "execution_count": 12,
   "outputs": [],
   "source": [
    "trials=10"
   ],
   "metadata": {
    "collapsed": false,
    "pycharm": {
     "name": "#%%\n"
    }
   }
  },
  {
   "cell_type": "code",
   "execution_count": 14,
   "outputs": [],
   "source": [
    "solver.fit(demand, None)"
   ],
   "metadata": {
    "collapsed": false,
    "pycharm": {
     "name": "#%%\n"
    }
   }
  },
  {
   "cell_type": "code",
   "execution_count": 15,
   "outputs": [
    {
     "name": "stderr",
     "output_type": "stream",
     "text": [
      "Best this iteration: 0.2981517302949463, current best 0.2981517302949463:   5%|▍         | 479/10000 [02:34<51:10,  3.10it/s]  \n"
     ]
    },
    {
     "name": "stdout",
     "output_type": "stream",
     "text": [
      "Result stagnated for 300\n"
     ]
    },
    {
     "name": "stderr",
     "output_type": "stream",
     "text": [
      "Best this iteration: 0.34966517044551115, current best 0.34966517044551115:   6%|▌         | 618/10000 [03:28<52:49,  2.96it/s]\n"
     ]
    },
    {
     "name": "stdout",
     "output_type": "stream",
     "text": [
      "Result stagnated for 300\n"
     ]
    },
    {
     "name": "stderr",
     "output_type": "stream",
     "text": [
      "Best this iteration: 0.3879580223031634, current best 0.3879580223031634:   6%|▌         | 565/10000 [03:00<50:15,  3.13it/s]  \n"
     ]
    },
    {
     "name": "stdout",
     "output_type": "stream",
     "text": [
      "Result stagnated for 300\n"
     ]
    },
    {
     "name": "stderr",
     "output_type": "stream",
     "text": [
      "Best this iteration: 0.34136696354644536, current best 0.34136696354644536:   6%|▌         | 601/10000 [03:12<50:04,  3.13it/s]\n"
     ]
    },
    {
     "name": "stdout",
     "output_type": "stream",
     "text": [
      "Result stagnated for 300\n"
     ]
    },
    {
     "name": "stderr",
     "output_type": "stream",
     "text": [
      "Best this iteration: 0.24249178905323662, current best 0.24249178905323662:   9%|▊         | 864/10000 [04:42<49:46,  3.06it/s]\n"
     ]
    },
    {
     "name": "stdout",
     "output_type": "stream",
     "text": [
      "Result stagnated for 300\n"
     ]
    },
    {
     "name": "stderr",
     "output_type": "stream",
     "text": [
      "Best this iteration: 0.30983252324399335, current best 0.30983252324399335:   7%|▋         | 666/10000 [03:31<49:29,  3.14it/s]\n"
     ]
    },
    {
     "name": "stdout",
     "output_type": "stream",
     "text": [
      "Result stagnated for 300\n"
     ]
    },
    {
     "name": "stderr",
     "output_type": "stream",
     "text": [
      "Best this iteration: 0.31192072187377107, current best 0.31192072187377107:   8%|▊         | 758/10000 [04:56<1:00:13,  2.56it/s]\n"
     ]
    },
    {
     "name": "stdout",
     "output_type": "stream",
     "text": [
      "Result stagnated for 300\n"
     ]
    },
    {
     "name": "stderr",
     "output_type": "stream",
     "text": [
      "Best this iteration: 0.39916857574513037, current best 0.39916857574513037:   6%|▌         | 602/10000 [03:15<50:57,  3.07it/s]  \n"
     ]
    },
    {
     "name": "stdout",
     "output_type": "stream",
     "text": [
      "Result stagnated for 300\n"
     ]
    },
    {
     "name": "stderr",
     "output_type": "stream",
     "text": [
      "Best this iteration: 0.36936284706560274, current best 0.36936284706560274:   7%|▋         | 695/10000 [03:42<49:33,  3.13it/s]\n"
     ]
    },
    {
     "name": "stdout",
     "output_type": "stream",
     "text": [
      "Result stagnated for 300\n"
     ]
    },
    {
     "name": "stderr",
     "output_type": "stream",
     "text": [
      "Best this iteration: 0.3320610742362014, current best 0.3320610742362014:   8%|▊         | 766/10000 [05:38<1:08:00,  2.26it/s]  \n"
     ]
    },
    {
     "name": "stdout",
     "output_type": "stream",
     "text": [
      "Result stagnated for 300\n"
     ]
    },
    {
     "name": "stderr",
     "output_type": "stream",
     "text": [
      "Best this iteration: 0.30566037024611814, current best 0.30566037024611814:  10%|▉         | 976/10000 [03:30<32:27,  4.63it/s]\n"
     ]
    },
    {
     "name": "stdout",
     "output_type": "stream",
     "text": [
      "Result stagnated for 300\n"
     ]
    },
    {
     "name": "stderr",
     "output_type": "stream",
     "text": [
      "Best this iteration: 0.3012515098476049, current best 0.3012515098476049:   6%|▌         | 583/10000 [02:13<35:52,  4.37it/s]  \n"
     ]
    },
    {
     "name": "stdout",
     "output_type": "stream",
     "text": [
      "Result stagnated for 300\n"
     ]
    },
    {
     "name": "stderr",
     "output_type": "stream",
     "text": [
      "Best this iteration: 0.4237725463667779, current best 0.4237725463667779:   7%|▋         | 680/10000 [02:20<32:03,  4.84it/s]  \n"
     ]
    },
    {
     "name": "stdout",
     "output_type": "stream",
     "text": [
      "Result stagnated for 300\n"
     ]
    },
    {
     "name": "stderr",
     "output_type": "stream",
     "text": [
      "Best this iteration: 0.34397562824533406, current best 0.34397562824533406:   7%|▋         | 702/10000 [02:32<33:42,  4.60it/s]\n"
     ]
    },
    {
     "name": "stdout",
     "output_type": "stream",
     "text": [
      "Result stagnated for 300\n"
     ]
    },
    {
     "name": "stderr",
     "output_type": "stream",
     "text": [
      "Best this iteration: 0.37208343834003377, current best 0.37208343834003377:   7%|▋         | 684/10000 [02:17<31:19,  4.96it/s]\n"
     ]
    },
    {
     "name": "stdout",
     "output_type": "stream",
     "text": [
      "Result stagnated for 300\n"
     ]
    },
    {
     "name": "stderr",
     "output_type": "stream",
     "text": [
      "Best this iteration: 0.484281831898447, current best 0.484281831898447:   5%|▌         | 519/10000 [01:44<31:46,  4.97it/s]    \n"
     ]
    },
    {
     "name": "stdout",
     "output_type": "stream",
     "text": [
      "Result stagnated for 300\n"
     ]
    },
    {
     "name": "stderr",
     "output_type": "stream",
     "text": [
      "Best this iteration: 0.32394433260574385, current best 0.32394433260574385:   6%|▌         | 585/10000 [01:58<31:45,  4.94it/s]\n"
     ]
    },
    {
     "name": "stdout",
     "output_type": "stream",
     "text": [
      "Result stagnated for 300\n"
     ]
    },
    {
     "name": "stderr",
     "output_type": "stream",
     "text": [
      "Best this iteration: 0.3237055842188249, current best 0.3237055842188249:   8%|▊         | 752/10000 [02:37<32:19,  4.77it/s]  \n"
     ]
    },
    {
     "name": "stdout",
     "output_type": "stream",
     "text": [
      "Result stagnated for 300\n"
     ]
    },
    {
     "name": "stderr",
     "output_type": "stream",
     "text": [
      "Best this iteration: 0.3662434086880073, current best 0.3662434086880073:   7%|▋         | 658/10000 [02:12<31:25,  4.96it/s]  \n"
     ]
    },
    {
     "name": "stdout",
     "output_type": "stream",
     "text": [
      "Result stagnated for 300\n"
     ]
    },
    {
     "name": "stderr",
     "output_type": "stream",
     "text": [
      "Best this iteration: 0.3426633829866675, current best 0.3426633829866675:   6%|▋         | 634/10000 [02:12<32:30,  4.80it/s]  \n"
     ]
    },
    {
     "name": "stdout",
     "output_type": "stream",
     "text": [
      "Result stagnated for 300\n"
     ]
    },
    {
     "name": "stderr",
     "output_type": "stream",
     "text": [
      "Best this iteration: 0.4105870585119521, current best 0.4105870585119521:   6%|▋         | 630/10000 [02:36<38:47,  4.03it/s]  \n"
     ]
    },
    {
     "name": "stdout",
     "output_type": "stream",
     "text": [
      "Result stagnated for 300\n"
     ]
    },
    {
     "name": "stderr",
     "output_type": "stream",
     "text": [
      "Best this iteration: 0.39469918169319157, current best 0.39469918169319157:   9%|▉         | 910/10000 [03:22<33:44,  4.49it/s]\n"
     ]
    },
    {
     "name": "stdout",
     "output_type": "stream",
     "text": [
      "Result stagnated for 300\n"
     ]
    },
    {
     "name": "stderr",
     "output_type": "stream",
     "text": [
      "Best this iteration: 0.30065561311175687, current best 0.30065561311175687:   7%|▋         | 747/10000 [02:40<33:10,  4.65it/s]\n"
     ]
    },
    {
     "name": "stdout",
     "output_type": "stream",
     "text": [
      "Result stagnated for 300\n"
     ]
    },
    {
     "name": "stderr",
     "output_type": "stream",
     "text": [
      "Best this iteration: 0.4352620008782595, current best 0.4352620008782595:   7%|▋         | 691/10000 [02:41<36:21,  4.27it/s]  \n"
     ]
    },
    {
     "name": "stdout",
     "output_type": "stream",
     "text": [
      "Result stagnated for 300\n"
     ]
    },
    {
     "name": "stderr",
     "output_type": "stream",
     "text": [
      "Best this iteration: 0.3765976365431691, current best 0.3765976365431691:   7%|▋         | 726/10000 [02:36<33:17,  4.64it/s]  \n"
     ]
    },
    {
     "name": "stdout",
     "output_type": "stream",
     "text": [
      "Result stagnated for 300\n"
     ]
    },
    {
     "name": "stderr",
     "output_type": "stream",
     "text": [
      "Best this iteration: 0.2773088165214898, current best 0.2773088165214898:   7%|▋         | 694/10000 [02:32<34:00,  4.56it/s]  \n"
     ]
    },
    {
     "name": "stdout",
     "output_type": "stream",
     "text": [
      "Result stagnated for 300\n"
     ]
    },
    {
     "name": "stderr",
     "output_type": "stream",
     "text": [
      "Best this iteration: 0.3204496066396503, current best 0.3204496066396503:   6%|▋         | 638/10000 [02:21<34:31,  4.52it/s]  \n"
     ]
    },
    {
     "name": "stdout",
     "output_type": "stream",
     "text": [
      "Result stagnated for 300\n"
     ]
    },
    {
     "name": "stderr",
     "output_type": "stream",
     "text": [
      "Best this iteration: 0.44819762449295114, current best 0.44819762449295114:  10%|█         | 1006/10000 [03:45<33:33,  4.47it/s]\n"
     ]
    },
    {
     "name": "stdout",
     "output_type": "stream",
     "text": [
      "Result stagnated for 300\n"
     ]
    },
    {
     "name": "stderr",
     "output_type": "stream",
     "text": [
      "Best this iteration: 0.36475700231043745, current best 0.36475700231043745:   9%|▉         | 923/10000 [03:27<34:02,  4.44it/s]\n"
     ]
    },
    {
     "name": "stdout",
     "output_type": "stream",
     "text": [
      "Result stagnated for 300\n"
     ]
    },
    {
     "name": "stderr",
     "output_type": "stream",
     "text": [
      "Best this iteration: 0.2631585597924363, current best 0.2631585597924363:   7%|▋         | 718/10000 [02:56<37:55,  4.08it/s]  "
     ]
    },
    {
     "name": "stdout",
     "output_type": "stream",
     "text": [
      "Result stagnated for 300\n"
     ]
    },
    {
     "name": "stderr",
     "output_type": "stream",
     "text": [
      "\n"
     ]
    }
   ],
   "source": [
    "for model in models:\n",
    "    for trial in range(trials):\n",
    "        file=f'runs/{model.n}-{model.m}-{model.e}-{model.nsp}-{model.nep}_{trial}.json'\n",
    "        raw_data = solver.run(special_settings=model, verbose=True)\n",
    "        solver.save_output(raw_data[-1], file)"
   ],
   "metadata": {
    "collapsed": false,
    "pycharm": {
     "name": "#%%\n"
    }
   }
  },
  {
   "cell_type": "code",
   "execution_count": null,
   "outputs": [],
   "source": [],
   "metadata": {
    "collapsed": false,
    "pycharm": {
     "name": "#%%\n"
    }
   }
  }
 ],
 "metadata": {
  "kernelspec": {
   "display_name": "Python 3",
   "language": "python",
   "name": "python3"
  },
  "language_info": {
   "codemirror_mode": {
    "name": "ipython",
    "version": 2
   },
   "file_extension": ".py",
   "mimetype": "text/x-python",
   "name": "python",
   "nbconvert_exporter": "python",
   "pygments_lexer": "ipython2",
   "version": "2.7.6"
  }
 },
 "nbformat": 4,
 "nbformat_minor": 0
}